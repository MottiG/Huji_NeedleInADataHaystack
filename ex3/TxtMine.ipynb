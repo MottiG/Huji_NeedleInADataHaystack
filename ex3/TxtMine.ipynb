{
 "cells": [
  {
   "cell_type": "code",
   "execution_count": 23,
   "metadata": {
    "collapsed": false
   },
   "outputs": [],
   "source": [
    "import nltk\n",
    "import matplotlib.pyplot as plt\n",
    "from collections import Counter\n",
    "from nltk.tokenize import sent_tokenize, word_tokenize\n",
    "from nltk.corpus import stopwords\n",
    "\n",
    "def get_txt(filepath: str) -> str:\n",
    "    with open(filepath, 'r', encoding='utf8') as f:\n",
    "        return f.read()\n",
    "\n",
    "\n",
    "def get_tokens_freq(txt: str) -> Counter:\n",
    "    \"\"\"\n",
    "    return counter contains the frequency of words in a given text\n",
    "    \"\"\"\n",
    "    count = Counter()\n",
    "    sents = sent_tokenize(txt)  # word_tokenize works best for sentences\n",
    "    for sent in sents:\n",
    "        count.update(word_tokenize(sent))\n",
    "    return count\n",
    "\n",
    "\n",
    "def plot_freq_of_freq(freq: Counter, title: str) -> None:\n",
    "    \"\"\"\n",
    "    plot and save the graph of frequency word as function of their rank\n",
    "    \"\"\"\n",
    "    freq_of_freq = Counter(freq.values())\n",
    "    plt.figure()\n",
    "    plt.title(title)\n",
    "    plt.loglog(list(freq_of_freq.keys()), list(freq_of_freq.values()), 'b.')\n",
    "    plt.ylabel('Frequency')\n",
    "    plt.xlabel('Rank')\n",
    "    plt.savefig(title+'.jpg')\n",
    "    plt.show()\n",
    "    \n",
    "# article b:\n",
    "pp_txt = get_txt('pp.txt')\n",
    "# raw_freq = get_tokens_freq(pp_txt)\n",
    "# plot_freq_of_freq(raw_freq, 'Raw Tokens')\n",
    "\n",
    "# article c:\n",
    "# stop_words = stopwords.words('english')\n",
    "# pp_without_stops = ' '.join([word for word in pp_txt.split() if word not in stop_words])\n",
    "# freq_without_stops = get_tokens_freq(pp_without_stops)\n",
    "# plot_freq_of_freq(freq_without_stops, 'Tokens Without Stopwords')"
   ]
  },
  {
   "cell_type": "code",
   "execution_count": null,
   "metadata": {},
   "outputs": [],
   "source": [
    ""
   ]
  }
 ],
 "metadata": {
  "anaconda-cloud": {},
  "kernelspec": {
   "display_name": "Python [default]",
   "language": "python",
   "name": "python3"
  },
  "language_info": {
   "codemirror_mode": {
    "name": "ipython",
    "version": 3.0
   },
   "file_extension": ".py",
   "mimetype": "text/x-python",
   "name": "python",
   "nbconvert_exporter": "python",
   "pygments_lexer": "ipython3",
   "version": "3.5.2"
  }
 },
 "nbformat": 4,
 "nbformat_minor": 0
}